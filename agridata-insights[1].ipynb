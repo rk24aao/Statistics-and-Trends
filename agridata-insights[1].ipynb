{
 "cells": [
  {
   "cell_type": "markdown",
   "id": "a4de310f",
   "metadata": {
    "papermill": {
     "duration": 0.006893,
     "end_time": "2024-11-06T01:50:05.472641",
     "exception": false,
     "start_time": "2024-11-06T01:50:05.465748",
     "status": "completed"
    },
    "tags": []
   },
   "source": [
    "## Setting up the Notebook:"
   ]
  },
  {
   "cell_type": "code",
   "execution_count": 1,
   "id": "b43f5ca6",
   "metadata": {
    "_cell_guid": "b1076dfc-b9ad-4769-8c92-a6c4dae69d19",
    "_uuid": "8f2839f25d086af736a60e9eeb907d3b93b6e0e5",
    "execution": {
     "iopub.execute_input": "2024-11-06T01:50:05.487127Z",
     "iopub.status.busy": "2024-11-06T01:50:05.486534Z",
     "iopub.status.idle": "2024-11-06T01:50:09.084406Z",
     "shell.execute_reply": "2024-11-06T01:50:09.082376Z"
    },
    "papermill": {
     "duration": 3.608876,
     "end_time": "2024-11-06T01:50:09.087607",
     "exception": false,
     "start_time": "2024-11-06T01:50:05.478731",
     "status": "completed"
    },
    "tags": []
   },
   "outputs": [
    {
     "name": "stdout",
     "output_type": "stream",
     "text": [
      "/kaggle/input/agriculture-and-farming-dataset/agriculture_dataset.csv\n"
     ]
    }
   ],
   "source": [
    "# This Python 3 environment comes with many helpful analytics libraries installed\n",
    "# It is defined by the kaggle/python Docker image: https://github.com/kaggle/docker-python\n",
    "# For example, here's several helpful packages to load\n",
    "\n",
    "import pandas as pd\n",
    "import matplotlib.pyplot as plt\n",
    "import seaborn as sns\n",
    "import numpy as np\n",
    "from scipy.stats import norm\n",
    "from sklearn.preprocessing import StandardScaler\n",
    "import scipy.stats as stats\n",
    "import warnings\n",
    "%matplotlib inline\n",
    "\n",
    "# Input data files are available in the read-only \"../input/\" directory\n",
    "# For example, running this (by clicking run or pressing Shift+Enter) will list all files under the input directory\n",
    "\n",
    "import os\n",
    "for dirname, _, filenames in os.walk('/kaggle/input'):\n",
    "    for filename in filenames:\n",
    "        print(os.path.join(dirname, filename))\n",
    "\n",
    "# You can write up to 20GB to the current directory (/kaggle/working/) that gets preserved as output when you create a version using \"Save & Run All\" \n",
    "# You can also write temporary files to /kaggle/temp/, but they won't be saved outside of the current session"
   ]
  },
  {
   "cell_type": "markdown",
   "id": "587ebadb",
   "metadata": {
    "papermill": {
     "duration": 0.005786,
     "end_time": "2024-11-06T01:50:09.099656",
     "exception": false,
     "start_time": "2024-11-06T01:50:09.093870",
     "status": "completed"
    },
    "tags": []
   },
   "source": [
    "## Importing the dataset:"
   ]
  },
  {
   "cell_type": "code",
   "execution_count": 2,
   "id": "859b3768",
   "metadata": {
    "execution": {
     "iopub.execute_input": "2024-11-06T01:50:09.115597Z",
     "iopub.status.busy": "2024-11-06T01:50:09.114482Z",
     "iopub.status.idle": "2024-11-06T01:50:09.137683Z",
     "shell.execute_reply": "2024-11-06T01:50:09.136044Z"
    },
    "papermill": {
     "duration": 0.036009,
     "end_time": "2024-11-06T01:50:09.141837",
     "exception": false,
     "start_time": "2024-11-06T01:50:09.105828",
     "status": "completed"
    },
    "tags": []
   },
   "outputs": [],
   "source": [
    "df = pd.read_csv(\"/kaggle/input/agriculture-and-farming-dataset/agriculture_dataset.csv\")"
   ]
  },
  {
   "cell_type": "markdown",
   "id": "f434e615",
   "metadata": {
    "papermill": {
     "duration": 0.008598,
     "end_time": "2024-11-06T01:50:09.159864",
     "exception": false,
     "start_time": "2024-11-06T01:50:09.151266",
     "status": "completed"
    },
    "tags": []
   },
   "source": [
    "## Exploratory Data Analysis:"
   ]
  },
  {
   "cell_type": "code",
   "execution_count": 3,
   "id": "56954e8a",
   "metadata": {
    "execution": {
     "iopub.execute_input": "2024-11-06T01:50:09.181208Z",
     "iopub.status.busy": "2024-11-06T01:50:09.180615Z",
     "iopub.status.idle": "2024-11-06T01:50:09.217442Z",
     "shell.execute_reply": "2024-11-06T01:50:09.215340Z"
    },
    "papermill": {
     "duration": 0.052122,
     "end_time": "2024-11-06T01:50:09.221342",
     "exception": false,
     "start_time": "2024-11-06T01:50:09.169220",
     "status": "completed"
    },
    "tags": []
   },
   "outputs": [
    {
     "data": {
      "text/html": [
       "<div>\n",
       "<style scoped>\n",
       "    .dataframe tbody tr th:only-of-type {\n",
       "        vertical-align: middle;\n",
       "    }\n",
       "\n",
       "    .dataframe tbody tr th {\n",
       "        vertical-align: top;\n",
       "    }\n",
       "\n",
       "    .dataframe thead th {\n",
       "        text-align: right;\n",
       "    }\n",
       "</style>\n",
       "<table border=\"1\" class=\"dataframe\">\n",
       "  <thead>\n",
       "    <tr style=\"text-align: right;\">\n",
       "      <th></th>\n",
       "      <th>Farm_ID</th>\n",
       "      <th>Crop_Type</th>\n",
       "      <th>Farm_Area(acres)</th>\n",
       "      <th>Irrigation_Type</th>\n",
       "      <th>Fertilizer_Used(tons)</th>\n",
       "      <th>Pesticide_Used(kg)</th>\n",
       "      <th>Yield(tons)</th>\n",
       "      <th>Soil_Type</th>\n",
       "      <th>Season</th>\n",
       "      <th>Water_Usage(cubic meters)</th>\n",
       "    </tr>\n",
       "  </thead>\n",
       "  <tbody>\n",
       "    <tr>\n",
       "      <th>0</th>\n",
       "      <td>F001</td>\n",
       "      <td>Cotton</td>\n",
       "      <td>329.40</td>\n",
       "      <td>Sprinkler</td>\n",
       "      <td>8.14</td>\n",
       "      <td>2.21</td>\n",
       "      <td>14.44</td>\n",
       "      <td>Loamy</td>\n",
       "      <td>Kharif</td>\n",
       "      <td>76648.20</td>\n",
       "    </tr>\n",
       "    <tr>\n",
       "      <th>1</th>\n",
       "      <td>F002</td>\n",
       "      <td>Carrot</td>\n",
       "      <td>18.67</td>\n",
       "      <td>Manual</td>\n",
       "      <td>4.77</td>\n",
       "      <td>4.36</td>\n",
       "      <td>42.91</td>\n",
       "      <td>Peaty</td>\n",
       "      <td>Kharif</td>\n",
       "      <td>68725.54</td>\n",
       "    </tr>\n",
       "    <tr>\n",
       "      <th>2</th>\n",
       "      <td>F003</td>\n",
       "      <td>Sugarcane</td>\n",
       "      <td>306.03</td>\n",
       "      <td>Flood</td>\n",
       "      <td>2.91</td>\n",
       "      <td>0.56</td>\n",
       "      <td>33.44</td>\n",
       "      <td>Silty</td>\n",
       "      <td>Kharif</td>\n",
       "      <td>75538.56</td>\n",
       "    </tr>\n",
       "    <tr>\n",
       "      <th>3</th>\n",
       "      <td>F004</td>\n",
       "      <td>Tomato</td>\n",
       "      <td>380.21</td>\n",
       "      <td>Rain-fed</td>\n",
       "      <td>3.32</td>\n",
       "      <td>4.35</td>\n",
       "      <td>34.08</td>\n",
       "      <td>Silty</td>\n",
       "      <td>Zaid</td>\n",
       "      <td>45401.23</td>\n",
       "    </tr>\n",
       "    <tr>\n",
       "      <th>4</th>\n",
       "      <td>F005</td>\n",
       "      <td>Tomato</td>\n",
       "      <td>135.56</td>\n",
       "      <td>Sprinkler</td>\n",
       "      <td>8.33</td>\n",
       "      <td>4.48</td>\n",
       "      <td>43.28</td>\n",
       "      <td>Clay</td>\n",
       "      <td>Zaid</td>\n",
       "      <td>93718.69</td>\n",
       "    </tr>\n",
       "    <tr>\n",
       "      <th>5</th>\n",
       "      <td>F006</td>\n",
       "      <td>Sugarcane</td>\n",
       "      <td>12.50</td>\n",
       "      <td>Sprinkler</td>\n",
       "      <td>6.42</td>\n",
       "      <td>2.25</td>\n",
       "      <td>38.18</td>\n",
       "      <td>Loamy</td>\n",
       "      <td>Zaid</td>\n",
       "      <td>46487.98</td>\n",
       "    </tr>\n",
       "    <tr>\n",
       "      <th>6</th>\n",
       "      <td>F007</td>\n",
       "      <td>Soybean</td>\n",
       "      <td>360.06</td>\n",
       "      <td>Drip</td>\n",
       "      <td>1.83</td>\n",
       "      <td>2.37</td>\n",
       "      <td>44.93</td>\n",
       "      <td>Sandy</td>\n",
       "      <td>Rabi</td>\n",
       "      <td>40583.57</td>\n",
       "    </tr>\n",
       "    <tr>\n",
       "      <th>7</th>\n",
       "      <td>F008</td>\n",
       "      <td>Rice</td>\n",
       "      <td>464.60</td>\n",
       "      <td>Drip</td>\n",
       "      <td>5.18</td>\n",
       "      <td>0.91</td>\n",
       "      <td>4.23</td>\n",
       "      <td>Silty</td>\n",
       "      <td>Kharif</td>\n",
       "      <td>9392.38</td>\n",
       "    </tr>\n",
       "    <tr>\n",
       "      <th>8</th>\n",
       "      <td>F009</td>\n",
       "      <td>Maize</td>\n",
       "      <td>389.37</td>\n",
       "      <td>Drip</td>\n",
       "      <td>0.57</td>\n",
       "      <td>4.93</td>\n",
       "      <td>3.86</td>\n",
       "      <td>Peaty</td>\n",
       "      <td>Rabi</td>\n",
       "      <td>60202.14</td>\n",
       "    </tr>\n",
       "    <tr>\n",
       "      <th>9</th>\n",
       "      <td>F010</td>\n",
       "      <td>Soybean</td>\n",
       "      <td>184.37</td>\n",
       "      <td>Drip</td>\n",
       "      <td>2.18</td>\n",
       "      <td>2.67</td>\n",
       "      <td>17.25</td>\n",
       "      <td>Sandy</td>\n",
       "      <td>Kharif</td>\n",
       "      <td>90922.15</td>\n",
       "    </tr>\n",
       "  </tbody>\n",
       "</table>\n",
       "</div>"
      ],
      "text/plain": [
       "  Farm_ID  Crop_Type  Farm_Area(acres) Irrigation_Type  Fertilizer_Used(tons)  \\\n",
       "0    F001     Cotton            329.40       Sprinkler                   8.14   \n",
       "1    F002     Carrot             18.67          Manual                   4.77   \n",
       "2    F003  Sugarcane            306.03           Flood                   2.91   \n",
       "3    F004     Tomato            380.21        Rain-fed                   3.32   \n",
       "4    F005     Tomato            135.56       Sprinkler                   8.33   \n",
       "5    F006  Sugarcane             12.50       Sprinkler                   6.42   \n",
       "6    F007    Soybean            360.06            Drip                   1.83   \n",
       "7    F008       Rice            464.60            Drip                   5.18   \n",
       "8    F009      Maize            389.37            Drip                   0.57   \n",
       "9    F010    Soybean            184.37            Drip                   2.18   \n",
       "\n",
       "   Pesticide_Used(kg)  Yield(tons) Soil_Type  Season  \\\n",
       "0                2.21        14.44     Loamy  Kharif   \n",
       "1                4.36        42.91     Peaty  Kharif   \n",
       "2                0.56        33.44     Silty  Kharif   \n",
       "3                4.35        34.08     Silty    Zaid   \n",
       "4                4.48        43.28      Clay    Zaid   \n",
       "5                2.25        38.18     Loamy    Zaid   \n",
       "6                2.37        44.93     Sandy    Rabi   \n",
       "7                0.91         4.23     Silty  Kharif   \n",
       "8                4.93         3.86     Peaty    Rabi   \n",
       "9                2.67        17.25     Sandy  Kharif   \n",
       "\n",
       "   Water_Usage(cubic meters)  \n",
       "0                   76648.20  \n",
       "1                   68725.54  \n",
       "2                   75538.56  \n",
       "3                   45401.23  \n",
       "4                   93718.69  \n",
       "5                   46487.98  \n",
       "6                   40583.57  \n",
       "7                    9392.38  \n",
       "8                   60202.14  \n",
       "9                   90922.15  "
      ]
     },
     "execution_count": 3,
     "metadata": {},
     "output_type": "execute_result"
    }
   ],
   "source": [
    "# Glimpse of the data\n",
    "df.head(10)"
   ]
  },
  {
   "cell_type": "code",
   "execution_count": 4,
   "id": "0d7a8b10",
   "metadata": {
    "execution": {
     "iopub.execute_input": "2024-11-06T01:50:09.243426Z",
     "iopub.status.busy": "2024-11-06T01:50:09.241840Z",
     "iopub.status.idle": "2024-11-06T01:50:09.251968Z",
     "shell.execute_reply": "2024-11-06T01:50:09.250381Z"
    },
    "papermill": {
     "duration": 0.02374,
     "end_time": "2024-11-06T01:50:09.254951",
     "exception": false,
     "start_time": "2024-11-06T01:50:09.231211",
     "status": "completed"
    },
    "tags": []
   },
   "outputs": [
    {
     "data": {
      "text/plain": [
       "Index(['Farm_ID', 'Crop_Type', 'Farm_Area(acres)', 'Irrigation_Type',\n",
       "       'Fertilizer_Used(tons)', 'Pesticide_Used(kg)', 'Yield(tons)',\n",
       "       'Soil_Type', 'Season', 'Water_Usage(cubic meters)'],\n",
       "      dtype='object')"
      ]
     },
     "execution_count": 4,
     "metadata": {},
     "output_type": "execute_result"
    }
   ],
   "source": [
    "# Showing the columns\n",
    "df.columns"
   ]
  },
  {
   "cell_type": "code",
   "execution_count": 5,
   "id": "79502f4d",
   "metadata": {
    "execution": {
     "iopub.execute_input": "2024-11-06T01:50:09.272393Z",
     "iopub.status.busy": "2024-11-06T01:50:09.271615Z",
     "iopub.status.idle": "2024-11-06T01:50:09.281307Z",
     "shell.execute_reply": "2024-11-06T01:50:09.279796Z"
    },
    "papermill": {
     "duration": 0.021446,
     "end_time": "2024-11-06T01:50:09.284644",
     "exception": false,
     "start_time": "2024-11-06T01:50:09.263198",
     "status": "completed"
    },
    "tags": []
   },
   "outputs": [
    {
     "data": {
      "text/plain": [
       "(50, 10)"
      ]
     },
     "execution_count": 5,
     "metadata": {},
     "output_type": "execute_result"
    }
   ],
   "source": [
    "df.shape"
   ]
  },
  {
   "cell_type": "code",
   "execution_count": 6,
   "id": "659729cb",
   "metadata": {
    "execution": {
     "iopub.execute_input": "2024-11-06T01:50:09.301283Z",
     "iopub.status.busy": "2024-11-06T01:50:09.300593Z",
     "iopub.status.idle": "2024-11-06T01:50:09.329958Z",
     "shell.execute_reply": "2024-11-06T01:50:09.328551Z"
    },
    "papermill": {
     "duration": 0.041734,
     "end_time": "2024-11-06T01:50:09.333392",
     "exception": false,
     "start_time": "2024-11-06T01:50:09.291658",
     "status": "completed"
    },
    "tags": []
   },
   "outputs": [
    {
     "data": {
      "text/html": [
       "<div>\n",
       "<style scoped>\n",
       "    .dataframe tbody tr th:only-of-type {\n",
       "        vertical-align: middle;\n",
       "    }\n",
       "\n",
       "    .dataframe tbody tr th {\n",
       "        vertical-align: top;\n",
       "    }\n",
       "\n",
       "    .dataframe thead th {\n",
       "        text-align: right;\n",
       "    }\n",
       "</style>\n",
       "<table border=\"1\" class=\"dataframe\">\n",
       "  <thead>\n",
       "    <tr style=\"text-align: right;\">\n",
       "      <th></th>\n",
       "      <th>Crop_Type</th>\n",
       "      <th>Irrigation_Type</th>\n",
       "    </tr>\n",
       "  </thead>\n",
       "  <tbody>\n",
       "    <tr>\n",
       "      <th>0</th>\n",
       "      <td>Cotton</td>\n",
       "      <td>Sprinkler</td>\n",
       "    </tr>\n",
       "    <tr>\n",
       "      <th>1</th>\n",
       "      <td>Carrot</td>\n",
       "      <td>Manual</td>\n",
       "    </tr>\n",
       "    <tr>\n",
       "      <th>2</th>\n",
       "      <td>Sugarcane</td>\n",
       "      <td>Flood</td>\n",
       "    </tr>\n",
       "    <tr>\n",
       "      <th>3</th>\n",
       "      <td>Tomato</td>\n",
       "      <td>Rain-fed</td>\n",
       "    </tr>\n",
       "    <tr>\n",
       "      <th>4</th>\n",
       "      <td>Tomato</td>\n",
       "      <td>Sprinkler</td>\n",
       "    </tr>\n",
       "    <tr>\n",
       "      <th>5</th>\n",
       "      <td>Sugarcane</td>\n",
       "      <td>Sprinkler</td>\n",
       "    </tr>\n",
       "    <tr>\n",
       "      <th>6</th>\n",
       "      <td>Soybean</td>\n",
       "      <td>Drip</td>\n",
       "    </tr>\n",
       "    <tr>\n",
       "      <th>7</th>\n",
       "      <td>Rice</td>\n",
       "      <td>Drip</td>\n",
       "    </tr>\n",
       "    <tr>\n",
       "      <th>8</th>\n",
       "      <td>Maize</td>\n",
       "      <td>Drip</td>\n",
       "    </tr>\n",
       "    <tr>\n",
       "      <th>9</th>\n",
       "      <td>Soybean</td>\n",
       "      <td>Drip</td>\n",
       "    </tr>\n",
       "    <tr>\n",
       "      <th>10</th>\n",
       "      <td>Rice</td>\n",
       "      <td>Drip</td>\n",
       "    </tr>\n",
       "    <tr>\n",
       "      <th>11</th>\n",
       "      <td>Sugarcane</td>\n",
       "      <td>Flood</td>\n",
       "    </tr>\n",
       "    <tr>\n",
       "      <th>12</th>\n",
       "      <td>Wheat</td>\n",
       "      <td>Drip</td>\n",
       "    </tr>\n",
       "    <tr>\n",
       "      <th>13</th>\n",
       "      <td>Rice</td>\n",
       "      <td>Flood</td>\n",
       "    </tr>\n",
       "    <tr>\n",
       "      <th>14</th>\n",
       "      <td>Sugarcane</td>\n",
       "      <td>Rain-fed</td>\n",
       "    </tr>\n",
       "    <tr>\n",
       "      <th>15</th>\n",
       "      <td>Barley</td>\n",
       "      <td>Flood</td>\n",
       "    </tr>\n",
       "    <tr>\n",
       "      <th>16</th>\n",
       "      <td>Carrot</td>\n",
       "      <td>Manual</td>\n",
       "    </tr>\n",
       "    <tr>\n",
       "      <th>17</th>\n",
       "      <td>Maize</td>\n",
       "      <td>Rain-fed</td>\n",
       "    </tr>\n",
       "    <tr>\n",
       "      <th>18</th>\n",
       "      <td>Maize</td>\n",
       "      <td>Drip</td>\n",
       "    </tr>\n",
       "    <tr>\n",
       "      <th>19</th>\n",
       "      <td>Barley</td>\n",
       "      <td>Sprinkler</td>\n",
       "    </tr>\n",
       "    <tr>\n",
       "      <th>20</th>\n",
       "      <td>Cotton</td>\n",
       "      <td>Drip</td>\n",
       "    </tr>\n",
       "    <tr>\n",
       "      <th>21</th>\n",
       "      <td>Wheat</td>\n",
       "      <td>Flood</td>\n",
       "    </tr>\n",
       "    <tr>\n",
       "      <th>22</th>\n",
       "      <td>Potato</td>\n",
       "      <td>Drip</td>\n",
       "    </tr>\n",
       "    <tr>\n",
       "      <th>23</th>\n",
       "      <td>Rice</td>\n",
       "      <td>Drip</td>\n",
       "    </tr>\n",
       "    <tr>\n",
       "      <th>24</th>\n",
       "      <td>Barley</td>\n",
       "      <td>Flood</td>\n",
       "    </tr>\n",
       "    <tr>\n",
       "      <th>25</th>\n",
       "      <td>Wheat</td>\n",
       "      <td>Flood</td>\n",
       "    </tr>\n",
       "    <tr>\n",
       "      <th>26</th>\n",
       "      <td>Cotton</td>\n",
       "      <td>Rain-fed</td>\n",
       "    </tr>\n",
       "    <tr>\n",
       "      <th>27</th>\n",
       "      <td>Tomato</td>\n",
       "      <td>Flood</td>\n",
       "    </tr>\n",
       "    <tr>\n",
       "      <th>28</th>\n",
       "      <td>Wheat</td>\n",
       "      <td>Manual</td>\n",
       "    </tr>\n",
       "    <tr>\n",
       "      <th>29</th>\n",
       "      <td>Potato</td>\n",
       "      <td>Rain-fed</td>\n",
       "    </tr>\n",
       "    <tr>\n",
       "      <th>30</th>\n",
       "      <td>Barley</td>\n",
       "      <td>Flood</td>\n",
       "    </tr>\n",
       "    <tr>\n",
       "      <th>31</th>\n",
       "      <td>Carrot</td>\n",
       "      <td>Flood</td>\n",
       "    </tr>\n",
       "    <tr>\n",
       "      <th>32</th>\n",
       "      <td>Barley</td>\n",
       "      <td>Drip</td>\n",
       "    </tr>\n",
       "    <tr>\n",
       "      <th>33</th>\n",
       "      <td>Tomato</td>\n",
       "      <td>Drip</td>\n",
       "    </tr>\n",
       "    <tr>\n",
       "      <th>34</th>\n",
       "      <td>Soybean</td>\n",
       "      <td>Drip</td>\n",
       "    </tr>\n",
       "    <tr>\n",
       "      <th>35</th>\n",
       "      <td>Cotton</td>\n",
       "      <td>Manual</td>\n",
       "    </tr>\n",
       "    <tr>\n",
       "      <th>36</th>\n",
       "      <td>Soybean</td>\n",
       "      <td>Manual</td>\n",
       "    </tr>\n",
       "    <tr>\n",
       "      <th>37</th>\n",
       "      <td>Barley</td>\n",
       "      <td>Drip</td>\n",
       "    </tr>\n",
       "    <tr>\n",
       "      <th>38</th>\n",
       "      <td>Cotton</td>\n",
       "      <td>Flood</td>\n",
       "    </tr>\n",
       "    <tr>\n",
       "      <th>39</th>\n",
       "      <td>Cotton</td>\n",
       "      <td>Rain-fed</td>\n",
       "    </tr>\n",
       "    <tr>\n",
       "      <th>40</th>\n",
       "      <td>Rice</td>\n",
       "      <td>Flood</td>\n",
       "    </tr>\n",
       "    <tr>\n",
       "      <th>41</th>\n",
       "      <td>Sugarcane</td>\n",
       "      <td>Sprinkler</td>\n",
       "    </tr>\n",
       "    <tr>\n",
       "      <th>42</th>\n",
       "      <td>Cotton</td>\n",
       "      <td>Flood</td>\n",
       "    </tr>\n",
       "    <tr>\n",
       "      <th>43</th>\n",
       "      <td>Soybean</td>\n",
       "      <td>Manual</td>\n",
       "    </tr>\n",
       "    <tr>\n",
       "      <th>44</th>\n",
       "      <td>Tomato</td>\n",
       "      <td>Sprinkler</td>\n",
       "    </tr>\n",
       "    <tr>\n",
       "      <th>45</th>\n",
       "      <td>Carrot</td>\n",
       "      <td>Sprinkler</td>\n",
       "    </tr>\n",
       "    <tr>\n",
       "      <th>46</th>\n",
       "      <td>Potato</td>\n",
       "      <td>Drip</td>\n",
       "    </tr>\n",
       "    <tr>\n",
       "      <th>47</th>\n",
       "      <td>Potato</td>\n",
       "      <td>Sprinkler</td>\n",
       "    </tr>\n",
       "    <tr>\n",
       "      <th>48</th>\n",
       "      <td>Barley</td>\n",
       "      <td>Sprinkler</td>\n",
       "    </tr>\n",
       "    <tr>\n",
       "      <th>49</th>\n",
       "      <td>Tomato</td>\n",
       "      <td>Rain-fed</td>\n",
       "    </tr>\n",
       "  </tbody>\n",
       "</table>\n",
       "</div>"
      ],
      "text/plain": [
       "    Crop_Type Irrigation_Type\n",
       "0      Cotton       Sprinkler\n",
       "1      Carrot          Manual\n",
       "2   Sugarcane           Flood\n",
       "3      Tomato        Rain-fed\n",
       "4      Tomato       Sprinkler\n",
       "5   Sugarcane       Sprinkler\n",
       "6     Soybean            Drip\n",
       "7        Rice            Drip\n",
       "8       Maize            Drip\n",
       "9     Soybean            Drip\n",
       "10       Rice            Drip\n",
       "11  Sugarcane           Flood\n",
       "12      Wheat            Drip\n",
       "13       Rice           Flood\n",
       "14  Sugarcane        Rain-fed\n",
       "15     Barley           Flood\n",
       "16     Carrot          Manual\n",
       "17      Maize        Rain-fed\n",
       "18      Maize            Drip\n",
       "19     Barley       Sprinkler\n",
       "20     Cotton            Drip\n",
       "21      Wheat           Flood\n",
       "22     Potato            Drip\n",
       "23       Rice            Drip\n",
       "24     Barley           Flood\n",
       "25      Wheat           Flood\n",
       "26     Cotton        Rain-fed\n",
       "27     Tomato           Flood\n",
       "28      Wheat          Manual\n",
       "29     Potato        Rain-fed\n",
       "30     Barley           Flood\n",
       "31     Carrot           Flood\n",
       "32     Barley            Drip\n",
       "33     Tomato            Drip\n",
       "34    Soybean            Drip\n",
       "35     Cotton          Manual\n",
       "36    Soybean          Manual\n",
       "37     Barley            Drip\n",
       "38     Cotton           Flood\n",
       "39     Cotton        Rain-fed\n",
       "40       Rice           Flood\n",
       "41  Sugarcane       Sprinkler\n",
       "42     Cotton           Flood\n",
       "43    Soybean          Manual\n",
       "44     Tomato       Sprinkler\n",
       "45     Carrot       Sprinkler\n",
       "46     Potato            Drip\n",
       "47     Potato       Sprinkler\n",
       "48     Barley       Sprinkler\n",
       "49     Tomato        Rain-fed"
      ]
     },
     "execution_count": 6,
     "metadata": {},
     "output_type": "execute_result"
    }
   ],
   "source": [
    "df[['Crop_Type', 'Irrigation_Type']]"
   ]
  },
  {
   "cell_type": "code",
   "execution_count": 7,
   "id": "d191d0d7",
   "metadata": {
    "execution": {
     "iopub.execute_input": "2024-11-06T01:50:09.356556Z",
     "iopub.status.busy": "2024-11-06T01:50:09.354486Z",
     "iopub.status.idle": "2024-11-06T01:50:09.394231Z",
     "shell.execute_reply": "2024-11-06T01:50:09.392334Z"
    },
    "papermill": {
     "duration": 0.053216,
     "end_time": "2024-11-06T01:50:09.397786",
     "exception": false,
     "start_time": "2024-11-06T01:50:09.344570",
     "status": "completed"
    },
    "tags": []
   },
   "outputs": [
    {
     "data": {
      "text/html": [
       "<div>\n",
       "<style scoped>\n",
       "    .dataframe tbody tr th:only-of-type {\n",
       "        vertical-align: middle;\n",
       "    }\n",
       "\n",
       "    .dataframe tbody tr th {\n",
       "        vertical-align: top;\n",
       "    }\n",
       "\n",
       "    .dataframe thead th {\n",
       "        text-align: right;\n",
       "    }\n",
       "</style>\n",
       "<table border=\"1\" class=\"dataframe\">\n",
       "  <thead>\n",
       "    <tr style=\"text-align: right;\">\n",
       "      <th></th>\n",
       "      <th>Farm_Area(acres)</th>\n",
       "      <th>Fertilizer_Used(tons)</th>\n",
       "      <th>Pesticide_Used(kg)</th>\n",
       "      <th>Yield(tons)</th>\n",
       "      <th>Water_Usage(cubic meters)</th>\n",
       "    </tr>\n",
       "  </thead>\n",
       "  <tbody>\n",
       "    <tr>\n",
       "      <th>count</th>\n",
       "      <td>50.000000</td>\n",
       "      <td>50.000000</td>\n",
       "      <td>50.000000</td>\n",
       "      <td>50.000000</td>\n",
       "      <td>50.000000</td>\n",
       "    </tr>\n",
       "    <tr>\n",
       "      <th>mean</th>\n",
       "      <td>254.963800</td>\n",
       "      <td>4.905400</td>\n",
       "      <td>2.398000</td>\n",
       "      <td>27.059200</td>\n",
       "      <td>56724.295600</td>\n",
       "    </tr>\n",
       "    <tr>\n",
       "      <th>std</th>\n",
       "      <td>139.417782</td>\n",
       "      <td>2.732689</td>\n",
       "      <td>1.438613</td>\n",
       "      <td>13.345789</td>\n",
       "      <td>27264.992053</td>\n",
       "    </tr>\n",
       "    <tr>\n",
       "      <th>min</th>\n",
       "      <td>12.500000</td>\n",
       "      <td>0.500000</td>\n",
       "      <td>0.140000</td>\n",
       "      <td>3.860000</td>\n",
       "      <td>5869.750000</td>\n",
       "    </tr>\n",
       "    <tr>\n",
       "      <th>25%</th>\n",
       "      <td>135.710000</td>\n",
       "      <td>2.437500</td>\n",
       "      <td>0.972500</td>\n",
       "      <td>16.190000</td>\n",
       "      <td>37818.152500</td>\n",
       "    </tr>\n",
       "    <tr>\n",
       "      <th>50%</th>\n",
       "      <td>281.980000</td>\n",
       "      <td>5.045000</td>\n",
       "      <td>2.330000</td>\n",
       "      <td>28.970000</td>\n",
       "      <td>54097.075000</td>\n",
       "    </tr>\n",
       "    <tr>\n",
       "      <th>75%</th>\n",
       "      <td>368.107500</td>\n",
       "      <td>6.885000</td>\n",
       "      <td>3.417500</td>\n",
       "      <td>37.860000</td>\n",
       "      <td>82240.032500</td>\n",
       "    </tr>\n",
       "    <tr>\n",
       "      <th>max</th>\n",
       "      <td>483.880000</td>\n",
       "      <td>9.960000</td>\n",
       "      <td>4.990000</td>\n",
       "      <td>48.020000</td>\n",
       "      <td>94754.730000</td>\n",
       "    </tr>\n",
       "  </tbody>\n",
       "</table>\n",
       "</div>"
      ],
      "text/plain": [
       "       Farm_Area(acres)  Fertilizer_Used(tons)  Pesticide_Used(kg)  \\\n",
       "count         50.000000              50.000000           50.000000   \n",
       "mean         254.963800               4.905400            2.398000   \n",
       "std          139.417782               2.732689            1.438613   \n",
       "min           12.500000               0.500000            0.140000   \n",
       "25%          135.710000               2.437500            0.972500   \n",
       "50%          281.980000               5.045000            2.330000   \n",
       "75%          368.107500               6.885000            3.417500   \n",
       "max          483.880000               9.960000            4.990000   \n",
       "\n",
       "       Yield(tons)  Water_Usage(cubic meters)  \n",
       "count    50.000000                  50.000000  \n",
       "mean     27.059200               56724.295600  \n",
       "std      13.345789               27264.992053  \n",
       "min       3.860000                5869.750000  \n",
       "25%      16.190000               37818.152500  \n",
       "50%      28.970000               54097.075000  \n",
       "75%      37.860000               82240.032500  \n",
       "max      48.020000               94754.730000  "
      ]
     },
     "execution_count": 7,
     "metadata": {},
     "output_type": "execute_result"
    }
   ],
   "source": [
    "df.describe()"
   ]
  },
  {
   "cell_type": "code",
   "execution_count": 8,
   "id": "0e42b32c",
   "metadata": {
    "execution": {
     "iopub.execute_input": "2024-11-06T01:50:09.416279Z",
     "iopub.status.busy": "2024-11-06T01:50:09.415595Z",
     "iopub.status.idle": "2024-11-06T01:50:10.012255Z",
     "shell.execute_reply": "2024-11-06T01:50:10.010621Z"
    },
    "papermill": {
     "duration": 0.610102,
     "end_time": "2024-11-06T01:50:10.015758",
     "exception": false,
     "start_time": "2024-11-06T01:50:09.405656",
     "status": "completed"
    },
    "tags": []
   },
   "outputs": [
    {
     "name": "stderr",
     "output_type": "stream",
     "text": [
      "/opt/conda/lib/python3.10/site-packages/seaborn/_oldcore.py:1119: FutureWarning: use_inf_as_na option is deprecated and will be removed in a future version. Convert inf values to NaN before operating instead.\n",
      "  with pd.option_context('mode.use_inf_as_na', True):\n"
     ]
    },
    {
     "data": {
      "text/plain": [
       "<seaborn.axisgrid.FacetGrid at 0x7d5ac07fb700>"
      ]
     },
     "execution_count": 8,
     "metadata": {},
     "output_type": "execute_result"
    },
    {
     "data": {
      "image/png": "[encoded data removed]",
      "text/plain": [
       "<Figure size 500x500 with 1 Axes>"
      ]
     },
     "metadata": {},
     "output_type": "display_data"
    }
   ],
   "source": [
    "sns.displot(df['Farm_Area(acres)'], bins=20, kde=True)"
   ]
  },
  {
   "cell_type": "code",
   "execution_count": 9,
   "id": "dea89e2e",
   "metadata": {
    "execution": {
     "iopub.execute_input": "2024-11-06T01:50:10.036208Z",
     "iopub.status.busy": "2024-11-06T01:50:10.035494Z",
     "iopub.status.idle": "2024-11-06T01:50:10.401267Z",
     "shell.execute_reply": "2024-11-06T01:50:10.399389Z"
    },
    "papermill": {
     "duration": 0.37967,
     "end_time": "2024-11-06T01:50:10.404359",
     "exception": false,
     "start_time": "2024-11-06T01:50:10.024689",
     "status": "completed"
    },
    "tags": []
   },
   "outputs": [
    {
     "name": "stderr",
     "output_type": "stream",
     "text": [
      "/opt/conda/lib/python3.10/site-packages/seaborn/_oldcore.py:1119: FutureWarning: use_inf_as_na option is deprecated and will be removed in a future version. Convert inf values to NaN before operating instead.\n",
      "  with pd.option_context('mode.use_inf_as_na', True):\n"
     ]
    },
    {
     "data": {
      "text/plain": [
       "<Axes: xlabel='Fertilizer_Used(tons)', ylabel='Count'>"
      ]
     },
     "execution_count": 9,
     "metadata": {},
     "output_type": "execute_result"
    },
    {
     "data": {
      "image/png": "[encoded data removed]",
      "text/plain": [
       "<Figure size 640x480 with 1 Axes>"
      ]
     },
     "metadata": {},
     "output_type": "display_data"
    }
   ],
   "source": [
    "sns.histplot(df['Fertilizer_Used(tons)'], bins=30)"
   ]
  },
  {
   "cell_type": "markdown",
   "id": "79f9f3a8",
   "metadata": {
    "papermill": {
     "duration": 0.008569,
     "end_time": "2024-11-06T01:50:10.422161",
     "exception": false,
     "start_time": "2024-11-06T01:50:10.413592",
     "status": "completed"
    },
    "tags": []
   },
   "source": [
    "The histogram shows the distribution of fertilizer usage in tons across different data points. Fertilizer usage appears relatively evenly distributed from 0 to 10 tons, with a slight concentration around the 4-ton mark, suggesting this level is somewhat common among the observations. No extreme peaks or outliers are present, indicating that fertilizer usage is relatively consistent and dispersed across the dataset. This could imply balanced fertilizer application practices without significant variance in usage across different observations."
   ]
  },
  {
   "cell_type": "code",
   "execution_count": 10,
   "id": "46bdf0af",
   "metadata": {
    "execution": {
     "iopub.execute_input": "2024-11-06T01:50:10.442313Z",
     "iopub.status.busy": "2024-11-06T01:50:10.441718Z",
     "iopub.status.idle": "2024-11-06T01:50:10.961902Z",
     "shell.execute_reply": "2024-11-06T01:50:10.960502Z"
    },
    "papermill": {
     "duration": 0.534949,
     "end_time": "2024-11-06T01:50:10.965945",
     "exception": false,
     "start_time": "2024-11-06T01:50:10.430996",
     "status": "completed"
    },
    "tags": []
   },
   "outputs": [
    {
     "name": "stderr",
     "output_type": "stream",
     "text": [
      "/opt/conda/lib/python3.10/site-packages/seaborn/_oldcore.py:1119: FutureWarning: use_inf_as_na option is deprecated and will be removed in a future version. Convert inf values to NaN before operating instead.\n",
      "  with pd.option_context('mode.use_inf_as_na', True):\n"
     ]
    },
    {
     "data": {
      "text/plain": [
       "<seaborn.axisgrid.FacetGrid at 0x7d5ac07cdf60>"
      ]
     },
     "execution_count": 10,
     "metadata": {},
     "output_type": "execute_result"
    },
    {
     "data": {
      "image/png": "[encoded data removed]",
      "text/plain": [
       "<Figure size 500x500 with 1 Axes>"
      ]
     },
     "metadata": {},
     "output_type": "display_data"
    }
   ],
   "source": [
    "sns.displot(df['Pesticide_Used(kg)'], bins=20, kde=True)"
   ]
  },
  {
   "cell_type": "markdown",
   "id": "cd735fdd",
   "metadata": {
    "papermill": {
     "duration": 0.01574,
     "end_time": "2024-11-06T01:50:10.993843",
     "exception": false,
     "start_time": "2024-11-06T01:50:10.978103",
     "status": "completed"
    },
    "tags": []
   },
   "source": [
    "Overall, this plot suggests that while pesticide usage varies, certain levels (particularly around 1 kg and 4–5 kg) are more frequently observed, indicating possible standard usage levels or clusters within the data."
   ]
  },
  {
   "cell_type": "code",
   "execution_count": 11,
   "id": "a295b570",
   "metadata": {
    "execution": {
     "iopub.execute_input": "2024-11-06T01:50:11.022772Z",
     "iopub.status.busy": "2024-11-06T01:50:11.022184Z",
     "iopub.status.idle": "2024-11-06T01:50:11.385493Z",
     "shell.execute_reply": "2024-11-06T01:50:11.383634Z"
    },
    "papermill": {
     "duration": 0.382392,
     "end_time": "2024-11-06T01:50:11.389150",
     "exception": false,
     "start_time": "2024-11-06T01:50:11.006758",
     "status": "completed"
    },
    "tags": []
   },
   "outputs": [
    {
     "name": "stderr",
     "output_type": "stream",
     "text": [
      "/opt/conda/lib/python3.10/site-packages/seaborn/_oldcore.py:1119: FutureWarning: use_inf_as_na option is deprecated and will be removed in a future version. Convert inf values to NaN before operating instead.\n",
      "  with pd.option_context('mode.use_inf_as_na', True):\n"
     ]
    },
    {
     "data": {
      "text/plain": [
       "<Axes: xlabel='Water_Usage(cubic meters)', ylabel='Count'>"
      ]
     },
     "execution_count": 11,
     "metadata": {},
     "output_type": "execute_result"
    },
    {
     "data": {
      "image/png": "[encoded data removed]",
      "text/plain": [
       "<Figure size 640x480 with 1 Axes>"
      ]
     },
     "metadata": {},
     "output_type": "display_data"
    }
   ],
   "source": [
    "sns.histplot(df['Water_Usage(cubic meters)'], bins=10, kde=True)"
   ]
  },
  {
   "cell_type": "markdown",
   "id": "8f9bc5cd",
   "metadata": {
    "papermill": {
     "duration": 0.010175,
     "end_time": "2024-11-06T01:50:11.410075",
     "exception": false,
     "start_time": "2024-11-06T01:50:11.399900",
     "status": "completed"
    },
    "tags": []
   },
   "source": [
    "Overall, the data points to two common levels of water usage—around 40,000 and 80,000 cubic meters—while lower and mid-level usages are less frequent. This could imply diverse water usage needs among the agricultural activities represented."
   ]
  },
  {
   "cell_type": "code",
   "execution_count": 12,
   "id": "c181a338",
   "metadata": {
    "execution": {
     "iopub.execute_input": "2024-11-06T01:50:11.434230Z",
     "iopub.status.busy": "2024-11-06T01:50:11.432775Z",
     "iopub.status.idle": "2024-11-06T01:50:11.442753Z",
     "shell.execute_reply": "2024-11-06T01:50:11.440895Z"
    },
    "papermill": {
     "duration": 0.025029,
     "end_time": "2024-11-06T01:50:11.445573",
     "exception": false,
     "start_time": "2024-11-06T01:50:11.420544",
     "status": "completed"
    },
    "tags": []
   },
   "outputs": [],
   "source": [
    "df_numeric = df.select_dtypes(include=['number'])\n",
    "\n",
    "# Correlation matrix\n",
    "corrmat = df_numeric.corr()"
   ]
  },
  {
   "cell_type": "code",
   "execution_count": 13,
   "id": "d9256a94",
   "metadata": {
    "execution": {
     "iopub.execute_input": "2024-11-06T01:50:11.468482Z",
     "iopub.status.busy": "2024-11-06T01:50:11.467907Z",
     "iopub.status.idle": "2024-11-06T01:50:11.872750Z",
     "shell.execute_reply": "2024-11-06T01:50:11.870982Z"
    },
    "papermill": {
     "duration": 0.419931,
     "end_time": "2024-11-06T01:50:11.875864",
     "exception": false,
     "start_time": "2024-11-06T01:50:11.455933",
     "status": "completed"
    },
    "tags": []
   },
   "outputs": [
    {
     "data": {
      "text/plain": [
       "<Axes: >"
      ]
     },
     "execution_count": 13,
     "metadata": {},
     "output_type": "execute_result"
    },
    {
     "data": {
      "image/png": "[encoded data removed]",
      "text/plain": [
       "<Figure size 1000x500 with 2 Axes>"
      ]
     },
     "metadata": {},
     "output_type": "display_data"
    }
   ],
   "source": [
    "f, ax = plt.subplots(figsize=(10,5))\n",
    "sns.heatmap(corrmat, vmax= .9, square = True)"
   ]
  },
  {
   "cell_type": "markdown",
   "id": "3080a76a",
   "metadata": {
    "papermill": {
     "duration": 0.011079,
     "end_time": "2024-11-06T01:50:11.898603",
     "exception": false,
     "start_time": "2024-11-06T01:50:11.887524",
     "status": "completed"
    },
    "tags": []
   },
   "source": [
    "## Conclusion:\n",
    "\n",
    "The most notable correlations are:\n",
    "\n",
    "\t•\tFarm Area with Yield and Water Usage, suggesting that larger farms yield more and use more water.\n",
    "\t•\tYield has a positive relationship with both Farm Area and Fertilizer Usage, indicating that both factors can contribute to higher yields."
   ]
  }
 ],
 "metadata": {
  "kaggle": {
   "accelerator": "none",
   "dataSources": [
    {
     "datasetId": 5913416,
     "sourceId": 9675643,
     "sourceType": "datasetVersion"
    }
   ],
   "dockerImageVersionId": 30786,
   "isGpuEnabled": false,
   "isInternetEnabled": true,
   "language": "python",
   "sourceType": "notebook"
  },
  "kernelspec": {
   "display_name": "Python 3",
   "language": "python",
   "name": "python3"
  },
  "language_info": {
   "codemirror_mode": {
    "name": "ipython",
    "version": 3
   },
   "file_extension": ".py",
   "mimetype": "text/x-python",
   "name": "python",
   "nbconvert_exporter": "python",
   "pygments_lexer": "ipython3",
   "version": "3.10.14"
  },
  "papermill": {
   "default_parameters": {},
   "duration": 10.769696,
   "end_time": "2024-11-06T01:50:12.735752",
   "environment_variables": {},
   "exception": null,
   "input_path": "__notebook__.ipynb",
   "output_path": "__notebook__.ipynb",
   "parameters": {},
   "start_time": "2024-11-06T01:50:01.966056",
   "version": "2.6.0"
  }
 },
 "nbformat": 4,
 "nbformat_minor": 5
}
